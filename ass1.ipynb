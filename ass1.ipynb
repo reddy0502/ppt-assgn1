{
 "cells": [
  {
   "cell_type": "code",
   "execution_count": null,
   "id": "81bed9a5-96f2-42f0-b249-8bcc1efb0a48",
   "metadata": {},
   "outputs": [],
   "source": [
    "1.\n",
    "def twoSum(nums, target):\n",
    "    num_dict = {} \n",
    "\n",
    "    for i, num in enumerate(nums):\n",
    "        complement = target - num\n",
    "        if complement in num_dict:\n",
    "            return [num_dict[complement], i]\n",
    "        num_dict[num] = i\n",
    "\n",
    "    return []  # No solution found\n",
    "\n",
    " "
   ]
  },
  {
   "cell_type": "code",
   "execution_count": null,
   "id": "5770a74f-1e49-4fb0-828f-497490a38769",
   "metadata": {},
   "outputs": [],
   "source": [
    "2.\n",
    "def removeElement(nums, val):\n",
    "    i = 0\n",
    "\n",
    "    for j in range(len(nums)):\n",
    "        if nums[j] != val:\n",
    "            nums[i] = nums[j]\n",
    "            i += 1\n",
    "\n",
    "    return i"
   ]
  },
  {
   "cell_type": "code",
   "execution_count": null,
   "id": "c356dcce-feff-4c2e-9d85-c94c414ef449",
   "metadata": {},
   "outputs": [],
   "source": [
    "3.\n",
    "def searchInsert(nums, target):\n",
    "    left = 0\n",
    "    right = len(nums) - 1\n",
    "\n",
    "    while left <= right:\n",
    "        mid = (left + right) // 2\n",
    "\n",
    "        if nums[mid] == target:\n",
    "            return mid\n",
    "        elif nums[mid] < target:\n",
    "            left = mid + 1\n",
    "        else:\n",
    "            right = mid - 1\n",
    "\n",
    "    return left"
   ]
  },
  {
   "cell_type": "code",
   "execution_count": null,
   "id": "f737831c-9310-4504-8a70-c4570e931abe",
   "metadata": {},
   "outputs": [],
   "source": [
    "4.\n",
    "def plusOne(digits):\n",
    "    n = len(digits)\n",
    "    for i in range(n - 1, -1, -1):\n",
    "        if digits[i] != 9:\n",
    "            digits[i] += 1\n",
    "            return digits\n",
    "        digits[i] = 0\n",
    "    return [1] + digits"
   ]
  },
  {
   "cell_type": "code",
   "execution_count": null,
   "id": "1e3a93ed-0c98-431f-9412-f70e1ee5fe66",
   "metadata": {},
   "outputs": [],
   "source": [
    "5.\n",
    "def merge(nums1, m, nums2, n):\n",
    "    p1 = m - 1\n",
    "    p2 = n - 1\n",
    "    p = m + n - 1\n",
    "\n",
    "    while p1 >= 0 and p2 >= 0:\n",
    "        if nums1[p1] >= nums2[p2]:\n",
    "            nums1[p] = nums1[p1]\n",
    "            p1 -= 1\n",
    "        else:\n",
    "            nums1[p] = nums2[p2]\n",
    "            p2 -= 1\n",
    "        p -= 1\n",
    "\n",
    "    \n",
    "    nums1[:p2 + 1] = nums2[:p2 + 1]\n",
    "\n",
    "    return nums1"
   ]
  },
  {
   "cell_type": "code",
   "execution_count": null,
   "id": "c3469a85-ff77-4b8c-a192-be8a2c2734f6",
   "metadata": {},
   "outputs": [],
   "source": [
    "6.\n",
    "def containsDuplicate(nums):\n",
    "    unique = set()\n",
    "\n",
    "    for num in nums:\n",
    "        if num in unique:\n",
    "            return True\n",
    "        unique.add(num)\n",
    "\n",
    "    return False"
   ]
  },
  {
   "cell_type": "code",
   "execution_count": null,
   "id": "6dac9dc8-fd5f-47a3-8f49-b2ad4b2b2046",
   "metadata": {},
   "outputs": [],
   "source": [
    "7.\n",
    "def moveZeroes(nums):\n",
    "    left = 0\n",
    "    right = 0\n",
    "\n",
    "    while right < len(nums):\n",
    "        if nums[right] != 0:\n",
    "            nums[left], nums[right] = nums[right], nums[left]\n",
    "            left += 1\n",
    "        right += 1\n",
    "\n",
    "    nums[left:] = [0] * (len(nums) - left)"
   ]
  }
 ],
 "metadata": {
  "kernelspec": {
   "display_name": "Python 3 (ipykernel)",
   "language": "python",
   "name": "python3"
  },
  "language_info": {
   "codemirror_mode": {
    "name": "ipython",
    "version": 3
   },
   "file_extension": ".py",
   "mimetype": "text/x-python",
   "name": "python",
   "nbconvert_exporter": "python",
   "pygments_lexer": "ipython3",
   "version": "3.10.8"
  }
 },
 "nbformat": 4,
 "nbformat_minor": 5
}
